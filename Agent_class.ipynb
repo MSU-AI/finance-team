{
 "cells": [
  {
   "cell_type": "code",
   "execution_count": null,
   "id": "8fe2fda3",
   "metadata": {},
   "outputs": [],
   "source": [
    "class Agent():\n",
    "    def __init__(self, balance, performance, portfolio, stock_worth):\n",
    "        self.balance = balance\n",
    "        self.performance = performance\n",
    "        self.portfolio = portfolio\n",
    "        self.stock_worth = stock_worth\n",
    "        \n",
    "    def action(self):\n",
    "        "
   ]
  }
 ],
 "metadata": {
  "kernelspec": {
   "display_name": "Python 3 (ipykernel)",
   "language": "python",
   "name": "python3"
  },
  "language_info": {
   "codemirror_mode": {
    "name": "ipython",
    "version": 3
   },
   "file_extension": ".py",
   "mimetype": "text/x-python",
   "name": "python",
   "nbconvert_exporter": "python",
   "pygments_lexer": "ipython3",
   "version": "3.9.12"
  }
 },
 "nbformat": 4,
 "nbformat_minor": 5
}
